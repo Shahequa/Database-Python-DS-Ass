{
 "cells": [
  {
   "cell_type": "markdown",
   "id": "d8944cd9-2a3f-4b6d-a933-3ca1785195b7",
   "metadata": {},
   "source": [
    "### Database MySQL Assignment\n",
    "*By Shahequa Modabbera*"
   ]
  },
  {
   "cell_type": "markdown",
   "id": "e0c952d0-1ac9-4780-a621-cdc44631acca",
   "metadata": {},
   "source": [
    "### Q1. What is a database? Differentiate between SQL and NoSQL databases."
   ]
  },
  {
   "cell_type": "markdown",
   "id": "e76b7ab0-d343-4a7f-99ec-5ec0af4da69a",
   "metadata": {},
   "source": [
    "#### Ans) A database is an organized collection of structured information, or data, typically stored electronically in a computer system. A database is usually controlled by a database management system (DBMS). Together, the data and the DBMS, along with the applications that are associated with them, are referred to as a database system, often shortened to just database. \n",
    "\n",
    "*The differences between SQL and NoSQL database are:*\n",
    "\n",
    "`SQL databases are primarily called as Relational Databases (RDBMS); whereas NoSQL database are primarily called as non-relational or distributed database.` \n",
    "\n",
    "`SQL databases defines and manipulates data which are in structured format. On the other hand, a NoSQL database has dynamic schema for unstructured data. Data is stored in many ways which means it can be document-oriented, column-oriented, graph-based or organized as a KeyValue store.`\n",
    "\n",
    "`In almost all situations SQL databases are vertically scalable. This means that we can increase the load on a single server by increasing things like RAM, CPU or SSD. But on the other hand NoSQL databases are horizontally scalable. This means that we handle more traffic by sharding, or adding more servers in our NoSQL database.` \n",
    "\n",
    "`SQL databases are table-based. On the other hand NoSQL databases are either key-value pairs, document-based, graph databases or wide-column stores.`\n",
    "\n",
    "`MySQL, PostgreSQL, Oracle, MS-SQL Server, etc are some examples of SQL database.  MongoDB, GraphQL, HBase, Neo4j, Cassandra, etc are some examples of NoSQL database.`"
   ]
  },
  {
   "cell_type": "markdown",
   "id": "eaf51b75-84a0-4e0d-bcca-a951d0b4e87f",
   "metadata": {},
   "source": [
    "### Q2. What is DDL? Explain why CREATE, DROP, ALTER, and TRUNCATE are used with an example."
   ]
  },
  {
   "cell_type": "markdown",
   "id": "5b7b91ec-d434-45d0-a066-304b23b3ff00",
   "metadata": {},
   "source": [
    "#### Ans) DDL stands for Data Definition Language. DDL commands are those that can be used to define the database schema. It consists of metadata of the database schema and also create and modify the structure of the various objects within the database.\n",
    "\n",
    "`CREATE is a DDL command used to create databases, tables, triggers and other database objects.`\n",
    "\n",
    "*Example:*\n",
    "\n",
    "    CREATE TABLE Table_Name(\n",
    "    PersonID int,\n",
    "    LastName varchar(255),\n",
    "    FirstName varchar(255),\n",
    "    Address varchar(255),\n",
    "    City varchar(255)\n",
    "    );\n",
    "\n",
    "\n",
    "`DROP is a DDL command used to delete/remove the database objects from the SQL database. We can easily remove the entire table, view, or index from the database using this DDL command.`\n",
    "\n",
    "*Example:*\n",
    "\n",
    "    DROP TABLE Table_Name;\n",
    "\n",
    "\n",
    "`ALTER is a DDL command which changes or modifies the existing structure of the database, and it also changes the schema of database objects.\n",
    "We can also add and drop constraints of the table using the ALTER command.`\n",
    "\n",
    "*Example:*   \n",
    "\n",
    "    ALTER TABLE Table_Name\n",
    "    ADD Email varchar(255);\n",
    "\n",
    "\n",
    "`TRUNCATE is another DDL command which deletes or removes all the records from the table.\n",
    "This command also removes the space allocated for storing the table records.`\n",
    "\n",
    "*Example:*      \n",
    "\n",
    "    TRUNCATE TABLE Table_Name;"
   ]
  },
  {
   "cell_type": "markdown",
   "id": "d34abd99-3eeb-411e-aa6d-5bd16ca8ca6f",
   "metadata": {},
   "source": [
    "### Q3. What is DML? Explain INSERT, UPDATE, and DELETE with an example."
   ]
  },
  {
   "cell_type": "markdown",
   "id": "44b3192b-271f-4c5f-8bf8-040e5f167a5d",
   "metadata": {},
   "source": [
    "#### Ans) DML stands for Data Manipulation Language. A DML refers to a computer programming language that allows you to add (insert), delete (delete), and alter (update) data in a database. A DML is typically a sublanguage of a larger database language like SQL, with the DML containing some of the language’s operators. A DML (data manipulation language) is a group of computer languages that provide commands for manipulating data in databases.\n",
    "\n",
    "The SQL INSERT, UPDATE, and DELETE commands enable SQL users to manipulate and modify data:\n",
    "\n",
    "    The INSERT statement introduces new rows into an existing table.\n",
    "    The DELETE statement removes a row or combination of rows from a table.\n",
    "    The UPDATE statement enables users to update a row or group of rows in a table."
   ]
  },
  {
   "cell_type": "markdown",
   "id": "21dcc3c9-1904-4e96-bd1d-9302f7b40d49",
   "metadata": {},
   "source": [
    "(i) Syntax: INSERT into table-name values (data, data …)\n",
    "\n",
    "EXAMPLE:\n",
    "\n",
    "Suppose we have the following fields in the table named as EMPLOYEE as follows:\n",
    "Dept_No \tDept_Name \tEmp_No \tEmp_Name\n",
    "\n",
    "The query to insert values to these fields in table.\n",
    "\n",
    "INSERT into EMPLOYEE values (10, ‘Management’, ‘E01’, ‘John Abraham’);\n",
    "\n",
    "This query will add the data into the fields and will produce the following result:\n",
    "Dept_No \tDept_Name \t  Emp_No \tEmp_Name\n",
    "10 \t        Management \t  E01 \t    John Abraham\n",
    "\n",
    "(ii) Syntax: Update table-name set column-name = value where condition;\n",
    "\n",
    "EXAMPLE:\n",
    "\n",
    "Suppose we have a table that is named as employee.\n",
    "Dept_No \tDept_Name \t Emp_No \tEmp_Name\n",
    "10       \tManagement \t E01 \t   John Abraham\n",
    "20 \t        Management \t E02 \t   Tim\n",
    "30 \t        Finance \t E10 \t   Ali\n",
    "40 \t        Finance \t E11 \t   Faddy\n",
    "\n",
    "To update the table we are going to use the following query:\n",
    "\n",
    "Update employee set EMP_NO = E04 where DEPT_NO = 30;\n",
    "\n",
    "This query will produce the following result:\n",
    "Dept_No \tDept_Name \tEmp_No \tEmp_Name\n",
    "10 \t       Management \tE01 \tJohn Abraham\n",
    "20 \t       Management \tE02 \tTim\n",
    "30 \t       Finance \t    E04 \tAli\n",
    "40 \t       Finance \t    E11 \tFaddy\n",
    "\n",
    "This will update entry in the column EMP_NO with DEPT_NO 30.\n",
    "\n",
    "(iii) Syntax: DELETE from Employee;\n",
    "\n",
    "EXAMPLE:\n",
    "\n",
    "Suppose we have the following table named as EMPLOYEE:\n",
    "Dept_No \tDept_Name \tEmp_No \tEmp_Name\n",
    "10 \t        Management \tE01 \tJohn Abraham\n",
    "20 \t        Management \tE02 \tTim\n",
    "30 \t        Finance \tE04 \tAli\n",
    "40 \t        Finance \tE11 \tFaddy\n",
    "\n",
    "If we want to delete a specific record from the table then use the following query:\n",
    "\n",
    "DELETE from employee where DEPT_NO = 40;\n",
    "\n",
    "This query will delete the records where the department number is 40 from the table named as employee. This will delete the whole row from the table. The following result will be generated:\n",
    "\n",
    "Dept_No \tDept_Name \tEmp_No \tEmp_Name\n",
    "10 \t        Management \tE01 \tJohn Abraham\n",
    "20 \t        Management \tE02 \tTim\n",
    "30 \t        Finance \tE04 \tAli"
   ]
  },
  {
   "cell_type": "markdown",
   "id": "c1c0789c-757f-4ba9-9900-ab7670547062",
   "metadata": {},
   "source": [
    "### Q4. What is DQL? Explain SELECT with an example."
   ]
  },
  {
   "cell_type": "markdown",
   "id": "207d5d4b-d2d8-4ede-9eae-aed0eb946bdc",
   "metadata": {},
   "source": [
    "#### Ans) The full form of DQL is Data Query Language. DQL is part of the base grouping of SQL sub-languages. DQL statements are used for performing queries on the data within schema objects. The purpose of DQL commands is to get the schema relation based on the query passed to it. The SQL SELECT statement is strictly speaking an example of DQL.\n",
    "\n",
    "*An SQL SELECT statement retrieves records from a database table according to clauses (for example, FROM and WHERE) that specify criteria. The syntax is:*\n",
    "\n",
    "  `SELECT column1, column2 FROM table1, table2 WHERE column2='value';`"
   ]
  },
  {
   "cell_type": "markdown",
   "id": "7fe9dd99-6580-490f-82fb-e06b89ac2192",
   "metadata": {},
   "source": [
    "### Q5. Explain Primary Key and Foreign Key."
   ]
  },
  {
   "cell_type": "markdown",
   "id": "a0ced8fe-94b2-4687-a245-8837868084e0",
   "metadata": {},
   "source": [
    "Ans) A Primary key is a unique column we set in a table to easily identify and locate data in queries. A table can have only one primary key.\n",
    "\n",
    "The primary key column has a unique value and doesn’t store repeating values. A Primary key can never take NULL values.\n",
    "\n",
    "For example, in the case of a student when identification needs to be done in the class, the roll number of the student plays the role of Primary key.\n",
    "\n",
    "Similarly, when we talk about employees in a company, the employee ID is functioning as the Primary key for identification.\n",
    "\n",
    "Syntax:\n",
    "    \n",
    "CREATE TABLE tableName (\n",
    "    col1 int NOT NULL,\n",
    "    col2 varchar(50) NOT NULL,\n",
    "    col3 int,\n",
    "    …………….\n",
    "    PRIMARY KEY (col1)\n",
    ");\n",
    "\n",
    "A Foreign key is beneficial when we connect two or more tables so that data from both can be put to use parallelly.\n",
    "\n",
    "A foreign key is a field or collection of fields in a table that refers to the Primary key of the other table. It is responsible for managing the relationship between the tables.\n",
    "\n",
    "The table which contains the foreign key is often called the child table, and the table whose primary key is being referred by the foreign key is called the Parent Table.\n",
    "\n",
    "For example: When we talk about students and the courses they have enrolled in, now if we try to store all the data in a single table, the problem of redundancy arises.\n",
    "\n",
    "To solve this table, we make two tables, one the student detail table and the other department table. In the student table, we store the details of students and the courses they have enrolled in.\n",
    "\n",
    "And in the department table, we store all the details of the department. Here the courseId acts as the Primary key for the department table whereas it acts as the Foreign key in the student table.\n",
    "\n",
    "Syntax:\n",
    "CREATE TABLE childTable (\n",
    "    col1 int NOT NULL,\n",
    "    col2 int NOT NULL,\n",
    "    col3 int,\n",
    "    ………...\n",
    "    PRIMARY KEY (col1),\n",
    "    FOREIGN KEY (col3) REFERENCES parentTable(parent_Primary_key)\n",
    ");"
   ]
  },
  {
   "cell_type": "markdown",
   "id": "a13d3c0e-0a75-42f1-8795-b2e74ce917ee",
   "metadata": {},
   "source": [
    "### Q6. Write a python code to connect MySQL to python. Explain the cursor() and execute() method."
   ]
  },
  {
   "cell_type": "code",
   "execution_count": null,
   "id": "0446ce39-96da-4c83-811b-ff3e2c82d7de",
   "metadata": {},
   "outputs": [],
   "source": [
    "import mysql.connector\n",
    "##database anme\n",
    "mydb = mysql.connector.connect( ##mysql connector\n",
    "  host=\"localhost\", ## host name\n",
    "  user=\"abc\", ## username\n",
    "  password=\"password\" ##password\n",
    ")\n",
    "\n",
    "MySQL cursor():\n",
    "\n",
    "The cursor() method creates a cursor object that can be further used to perform CRUD(Create, Retrieve, Update, and Delete) operations over the database.\n",
    "\n",
    "mycursor = mydb.cursor()\n",
    "\n",
    "MySQL execute():\n",
    "\n",
    "The execute() method executes a SQL query passed to it using the cursor previously created.\n",
    "\n",
    "mycursor.execute(\"select * from table_name\")"
   ]
  },
  {
   "cell_type": "markdown",
   "id": "6bd98ac1-1628-4b9b-b4eb-5868d6039e9d",
   "metadata": {},
   "source": [
    "### Q7. Give the order of execution of SQL clauses in an SQL query."
   ]
  },
  {
   "cell_type": "markdown",
   "id": "9aaa09ac-8042-4cf2-9320-c0ee4eb2dc3f",
   "metadata": {},
   "source": [
    "`Ans) The order in which the clauses in SQL queries are executed is as follows:`\n",
    "\n",
    "`1. FROM/JOIN:` The FROM and/or JOIN clauses are executed first to determine the data of interest.\n",
    "\n",
    "`2. WHERE:` The WHERE clause is executed to filter out records that do not meet the constraints.\n",
    "\n",
    "`3. GROUP BY:` The GROUP BY clause is executed to group the data based on the values in one or more columns.\n",
    "\n",
    "`4. HAVING:` The HAVING clause is executed to remove the created grouped records that don’t meet the constraints.\n",
    "\n",
    "`5. SELECT:` The SELECT clause is executed to derive all desired columns and expressions.\n",
    "\n",
    "`6. ORDER BY:` The ORDER BY clause is executed to sort the derived values in ascending or descending order.\n",
    "\n",
    "`7. LIMIT/OFFSET:` Finally, the LIMIT and/or OFFSET clauses are executed to keep or skip a specified number of rows."
   ]
  }
 ],
 "metadata": {
  "kernelspec": {
   "display_name": "Python 3 (ipykernel)",
   "language": "python",
   "name": "python3"
  },
  "language_info": {
   "codemirror_mode": {
    "name": "ipython",
    "version": 3
   },
   "file_extension": ".py",
   "mimetype": "text/x-python",
   "name": "python",
   "nbconvert_exporter": "python",
   "pygments_lexer": "ipython3",
   "version": "3.10.8"
  }
 },
 "nbformat": 4,
 "nbformat_minor": 5
}
